{
 "cells": [
  {
   "cell_type": "markdown",
   "metadata": {
    "id": "48lvfFLHAaMS"
   },
   "source": [
    "## Configurando o MySQL com Python"
   ]
  },
  {
   "cell_type": "markdown",
   "metadata": {
    "id": "E_Rtdd62AaMU"
   },
   "source": [
    "Neste momento, vamos configurar a integração entre o MySQL e Python. Isso nos permitirá executar consultas, inserções e outras operações no banco de dados MySQL usando o Python como nossa linguagem de programação principal."
   ]
  },
  {
   "cell_type": "code",
   "execution_count": 37,
   "metadata": {
    "id": "oSmszBiKAaMU"
   },
   "outputs": [
    {
     "data": {
      "text/plain": [
       "<mysql.connector.connection_cext.CMySQLConnection at 0x7f30bb6f44c0>"
      ]
     },
     "execution_count": 37,
     "metadata": {},
     "output_type": "execute_result"
    }
   ],
   "source": [
    "import mysql.connector\n",
    "\n",
    "connection = mysql.connector.connect(\n",
    "    host = 'localhost',\n",
    "    user = 'DBA',\n",
    "    password = '1234'\n",
    ")\n",
    "\n",
    "connection"
   ]
  },
  {
   "cell_type": "markdown",
   "metadata": {
    "id": "jprge52bAaMV"
   },
   "source": [
    "Criaremos um cursor, que é um objeto utilizado para executar instruções SQL no contexto do Python. Essse cursor nos permitirá enviar consultas e comandos SQL para o banco de dados MySQL por meio da conexão estabelecida e obter os resultados de volta para serem processados em nosso código Python"
   ]
  },
  {
   "cell_type": "code",
   "execution_count": null,
   "metadata": {
    "id": "_wxVOv0fAaMV"
   },
   "outputs": [],
   "source": [
    "cursor = connection.cursor()\n",
    "cursor"
   ]
  },
  {
   "cell_type": "markdown",
   "metadata": {
    "id": "yQCWj8OiAaMW"
   },
   "source": [
    "## Criando uma base de dados"
   ]
  },
  {
   "cell_type": "markdown",
   "metadata": {
    "id": "SuVcZJ3zAaMW"
   },
   "source": [
    "O método `execute()` é usado para compilar uma instrução SQL"
   ]
  },
  {
   "cell_type": "code",
   "execution_count": 3,
   "metadata": {
    "id": "wt5l_h8hAaMW"
   },
   "outputs": [],
   "source": [
    "cursor.execute(\"CREATE DATABASE IF NOT EXISTS db_produtos;\") # Cria o DB caso não exista"
   ]
  },
  {
   "cell_type": "code",
   "execution_count": null,
   "metadata": {
    "id": "Ofbqx6eQAaMW"
   },
   "outputs": [],
   "source": [
    "cursor.execute(\"SHOW DATABASES;\")\n",
    "\n",
    "for db in cursor:\n",
    "    print(db)"
   ]
  },
  {
   "cell_type": "markdown",
   "metadata": {
    "id": "cNpQyBpzAaMW"
   },
   "source": [
    "## Criando uma tabela"
   ]
  },
  {
   "cell_type": "markdown",
   "metadata": {
    "id": "Z-fB6LrNAaMW"
   },
   "source": [
    "Antes de criar nossa tabela, vamos revisar as colunas necessárias que precisaremos incluir nela. Essa etapa é importante para garantir que nossa tabela seja projetada corretamente, atendendo aos requisitos de armazenamento e organização dos dados."
   ]
  },
  {
   "cell_type": "code",
   "execution_count": 5,
   "metadata": {
    "id": "EDMnNl3UAaMX"
   },
   "outputs": [],
   "source": [
    "import pandas as pd \n",
    "\n",
    "df_livros = pd.read_csv('/home/daniel/Documentos/python-pipeline-com-Mongo-e-SQL/data/tabela_livros.csv')"
   ]
  },
  {
   "cell_type": "code",
   "execution_count": null,
   "metadata": {
    "id": "AOgI2-yAAaMX"
   },
   "outputs": [],
   "source": [
    "df_livros.columns"
   ]
  },
  {
   "cell_type": "code",
   "execution_count": null,
   "metadata": {
    "id": "IjXdnduAAaMX"
   },
   "outputs": [],
   "source": [
    "df_livros.shape # rows / columns"
   ]
  },
  {
   "cell_type": "code",
   "execution_count": 8,
   "metadata": {
    "id": "mEL2pt5eAaMX"
   },
   "outputs": [],
   "source": [
    "cursor.execute(\"\"\"\n",
    "    CREATE TABLE IF NOT EXISTS db_produtos.livros (\n",
    "        id VARCHAR(100),\n",
    "        Produto VARCHAR(100),\n",
    "        Categoria_Produto VARCHAR(100),\n",
    "        Preco FLOAT(10,2),\n",
    "        Frete FLOAT(10,2),\n",
    "        Data_Compra DATE,\n",
    "        Vendedor VARCHAR(100),\n",
    "        Local_Compra VARCHAR(100),\n",
    "        Avaliacao_Compra INT,\n",
    "        Tipo_Pagamento VARCHAR(100),\n",
    "        Qntd_Parcelas INT,\n",
    "        Latitude FLOAT(10,2),\n",
    "        Longitude FLOAT(10,2),       \n",
    "        PRIMARY KEY (id)  \n",
    "    );\n",
    "\"\"\")"
   ]
  },
  {
   "cell_type": "markdown",
   "metadata": {
    "id": "h0QI3ib6AaMX"
   },
   "source": [
    "**Selecionando a base de dados para verificar a tabela criada**"
   ]
  },
  {
   "cell_type": "code",
   "execution_count": null,
   "metadata": {
    "id": "4kQPx8HKAaMX"
   },
   "outputs": [],
   "source": [
    "cursor.execute(\"USE db_produtos;\")\n",
    "cursor.execute(\"SHOW TABLES;\")\n",
    "\n",
    "for tables in cursor:\n",
    "    print(tables)"
   ]
  },
  {
   "cell_type": "markdown",
   "metadata": {
    "id": "-vttBXAFAaMX"
   },
   "source": [
    "## Inserindo os dados do csv na tabela"
   ]
  },
  {
   "cell_type": "markdown",
   "metadata": {
    "id": "T1_WbYiCAaMY"
   },
   "source": [
    "Para inserir os dados na tabela do MySQL, é necessário percorrer cada linha do DataFrame e transformá-las em tuplas. Essa abordagem permite que mapeemos os dados do DataFrame para as colunas correspondentes da tabela do MySQL de forma eficiente e precisa."
   ]
  },
  {
   "cell_type": "code",
   "execution_count": null,
   "metadata": {
    "id": "pXiEzr3xAaMY"
   },
   "outputs": [],
   "source": [
    "lista_dados = [tuple(row) for i, row in df_livros.iterrows()] #transforma o dataframe em lista\n",
    "lista_dados"
   ]
  },
  {
   "cell_type": "code",
   "execution_count": null,
   "metadata": {
    "id": "bmiJewjZAaMY"
   },
   "outputs": [],
   "source": [
    "sql = \"INSERT INTO db_produtos.livros VALUES (%s,%s,%s,%s,%s,%s,%s,%s,%s,%s,%s,%s,%s);\"\n",
    "\n",
    "cursor.executemany(sql, lista_dados) #executa para cada linha da lista com os valores respectivamente\n",
    "connection.commit()"
   ]
  },
  {
   "cell_type": "code",
   "execution_count": null,
   "metadata": {
    "id": "mtCAC3LRAaMY"
   },
   "outputs": [],
   "source": [
    "print(cursor.rowcount)"
   ]
  },
  {
   "cell_type": "markdown",
   "metadata": {
    "id": "0uCRoygcAaMY"
   },
   "source": [
    "## Visualizando os dados inseridos"
   ]
  },
  {
   "cell_type": "code",
   "execution_count": null,
   "metadata": {
    "id": "lQYy48pQAaMY"
   },
   "outputs": [],
   "source": [
    "cursor.execute(\"\"\"\n",
    "    CREATE TABLE IF NOT EXISTS db_produtos.tb_produtos_2021_em_diante(\n",
    "               id VARCHAR(100),\n",
    "               Produto VARCHAR(100),\n",
    "               Categoria_Produto VARCHAR(100),\n",
    "               Preco FLOAT(10,2),\n",
    "               Frete FLOAT(10,2),\n",
    "               Data_Compra DATE,\n",
    "               Vendedor VARCHAR(100),\n",
    "               Local_Compra VARCHAR(100),\n",
    "               Avaliacao_Compra INT,\n",
    "               Tipo_Pagamento VARCHAR(100),\n",
    "               Qntd_Parcelas INT,\n",
    "               Latitude FLOAT(10,2),\n",
    "               Longitude FLOAT(10,2),\n",
    "\n",
    "               PRIMARY KEY (id));\n",
    "\"\"\")"
   ]
  },
  {
   "cell_type": "code",
   "execution_count": 21,
   "metadata": {
    "id": "P3J6K1ZyAaMZ"
   },
   "outputs": [],
   "source": [
    "df_produtos = pd.read_csv(\"/home/daniel/Documentos/python-pipeline-com-Mongo-e-SQL/data/vendas_a_partir_de_2021.csv\")"
   ]
  },
  {
   "cell_type": "code",
   "execution_count": null,
   "metadata": {
    "id": "pl0Abrg1AaMZ"
   },
   "outputs": [],
   "source": [
    "df_produtos.shape"
   ]
  },
  {
   "cell_type": "code",
   "execution_count": null,
   "metadata": {},
   "outputs": [],
   "source": [
    "lista_dados = [tuple(row) for i, row in df_produtos.iterrows()]\n",
    "sql = \"INSERT INTO db_produtos.tb_produtos_2021_em_diante VALUES (%s,%s,%s,%s,%s,%s,%s,%s,%s,%s,%s,%s,%s)\"\n",
    "\n",
    "cursor.executemany(sql, lista_dados)\n",
    "connection.commit()"
   ]
  },
  {
   "cell_type": "code",
   "execution_count": null,
   "metadata": {},
   "outputs": [],
   "source": [
    "print(cursor.rowcount)"
   ]
  },
  {
   "cell_type": "markdown",
   "metadata": {},
   "source": [
    "# Visualizando os dados inseridos"
   ]
  },
  {
   "cell_type": "code",
   "execution_count": null,
   "metadata": {},
   "outputs": [],
   "source": [
    "cursor.execute('SELECT * FROM db_produtos.livros')\n",
    "\n",
    "for row in cursor:\n",
    "    print(row)"
   ]
  },
  {
   "cell_type": "code",
   "execution_count": 36,
   "metadata": {},
   "outputs": [],
   "source": [
    "cursor.close()\n",
    "connection.close()"
   ]
  }
 ],
 "metadata": {
  "colab": {
   "provenance": []
  },
  "kernelspec": {
   "display_name": "venv",
   "language": "python",
   "name": "python3"
  },
  "language_info": {
   "codemirror_mode": {
    "name": "ipython",
    "version": 3
   },
   "file_extension": ".py",
   "mimetype": "text/x-python",
   "name": "python",
   "nbconvert_exporter": "python",
   "pygments_lexer": "ipython3",
   "version": "3.10.12"
  },
  "orig_nbformat": 4
 },
 "nbformat": 4,
 "nbformat_minor": 0
}
